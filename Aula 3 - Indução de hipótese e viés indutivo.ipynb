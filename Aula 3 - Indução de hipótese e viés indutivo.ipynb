{
 "cells": [
  {
   "cell_type": "code",
   "execution_count": 9,
   "metadata": {},
   "outputs": [],
   "source": [
    "topics = {\n",
    "    \"Algoritmo\":{},\n",
    "    \"Sistema baseado em conhecimento\":{},\n",
    "    \"Sistema baseado em aprendizado\":{}\n",
    "}\n",
    "\n"
   ]
  },
  {
   "cell_type": "code",
   "execution_count": 20,
   "metadata": {},
   "outputs": [
    {
     "name": "stdout",
     "output_type": "stream",
     "text": [
      "0 a\n",
      "1 b\n"
     ]
    }
   ],
   "source": [
    "for i,e in enumerate([\"a\",\"b\"]):\n",
    "    print(i,e)"
   ]
  },
  {
   "cell_type": "code",
   "execution_count": 18,
   "metadata": {},
   "outputs": [
    {
     "data": {
      "text/plain": [
       "\"<ol><li><a href='#algoritmo'>Algoritmo</a></li><ol type='a'></ol><li><a href='#sistema_baseado_em_conhecimento'>Sistema baseado em conhecimento</a></li><ol type='a'></ol><li><a href='#sistema_baseado_em_aprendizado'>Sistema baseado em aprendizado</a></li><ol type='a'></ol></ol>\""
      ]
     },
     "execution_count": 18,
     "metadata": {},
     "output_type": "execute_result"
    }
   ],
   "source": [
    "topics_to_code(topics)"
   ]
  },
  {
   "cell_type": "code",
   "execution_count": null,
   "metadata": {},
   "outputs": [],
   "source": []
  }
 ],
 "metadata": {
  "kernelspec": {
   "display_name": "Python 3",
   "language": "python",
   "name": "python3"
  },
  "language_info": {
   "codemirror_mode": {
    "name": "ipython",
    "version": 3
   },
   "file_extension": ".py",
   "mimetype": "text/x-python",
   "name": "python",
   "nbconvert_exporter": "python",
   "pygments_lexer": "ipython3",
   "version": "3.7.0"
  }
 },
 "nbformat": 4,
 "nbformat_minor": 2
}
